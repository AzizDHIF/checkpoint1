{
  "nbformat": 4,
  "nbformat_minor": 0,
  "metadata": {
    "colab": {
      "name": "checkpoint4.ipynb",
      "provenance": []
    },
    "kernelspec": {
      "name": "python3",
      "display_name": "Python 3"
    },
    "language_info": {
      "name": "python"
    }
  },
  "cells": [
    {
      "cell_type": "code",
      "metadata": {
        "colab": {
          "base_uri": "https://localhost:8080/"
        },
        "id": "gf2lumWbEO9I",
        "outputId": "3e3de60d-7e59-46d9-e413-5167249ce573"
      },
      "source": [
        "#Question1\n",
        "def max(a,b,c):\n",
        "  a=int(a)\n",
        "  b=int(b)\n",
        "  c=int(c)\n",
        "  if a>=b and a>=c:\n",
        "    return a\n",
        "  if c>=b and c>=a:\n",
        "    return c\n",
        "  if b>=c and b>=a:\n",
        "    return b\n",
        "  \n",
        "print(max(2,2,3))\n",
        "print(max(4,5,6))\n",
        "\n"
      ],
      "execution_count": 12,
      "outputs": [
        {
          "output_type": "stream",
          "text": [
            "3\n",
            "6\n"
          ],
          "name": "stdout"
        }
      ]
    },
    {
      "cell_type": "code",
      "metadata": {
        "colab": {
          "base_uri": "https://localhost:8080/"
        },
        "id": "wzdf93yGaKWd",
        "outputId": "fe93e86c-7cbd-4920-a108-fb7241c9cd37"
      },
      "source": [
        "#Question2\n",
        "def addsous(a,b):\n",
        "  return a+b,a-b\n",
        "print(addsous(1,2))"
      ],
      "execution_count": 14,
      "outputs": [
        {
          "output_type": "stream",
          "text": [
            "(3, -1)\n"
          ],
          "name": "stdout"
        }
      ]
    },
    {
      "cell_type": "code",
      "metadata": {
        "colab": {
          "base_uri": "https://localhost:8080/"
        },
        "id": "61fIuHZOahG7",
        "outputId": "60ef076d-84c9-4ffb-91a0-63585e5f6076"
      },
      "source": [
        "#Question3\n",
        "#Somme des entiers dans une liste\n",
        "def somme(l):\n",
        "  \n",
        "  l=list(l)\n",
        "  a=0\n",
        "  for i in range (len(l)):\n",
        "    l[i]=int(l[i])\n",
        "  \n",
        "  for i in range (len(l)):\n",
        "    a=a+l[i]\n",
        "  return a\n",
        "g=[1,2,3,4,5]\n",
        "print(somme(g))\n"
      ],
      "execution_count": 7,
      "outputs": [
        {
          "output_type": "stream",
          "text": [
            "15\n"
          ],
          "name": "stdout"
        }
      ]
    },
    {
      "cell_type": "code",
      "metadata": {
        "colab": {
          "base_uri": "https://localhost:8080/"
        },
        "id": "vYYpnoxscW01",
        "outputId": "a67a2b02-c320-4f29-8366-6c96d8d8df15"
      },
      "source": [
        "#Question3\n",
        "#produits des entiers dans une liste\n",
        "def produit(l):\n",
        "  \n",
        "  l=list(l)\n",
        "  a=1\n",
        "  for i in range (len(l)):\n",
        "    l[i]=int(l[i])\n",
        "  \n",
        "  for i in range (len(l)):\n",
        "    a=a*l[i]\n",
        "  return a\n",
        "g=[1,2,3,4,5]\n",
        "print(produit(g))"
      ],
      "execution_count": 8,
      "outputs": [
        {
          "output_type": "stream",
          "text": [
            "120\n"
          ],
          "name": "stdout"
        }
      ]
    },
    {
      "cell_type": "code",
      "metadata": {
        "id": "mzS_HmHJgW5b"
      },
      "source": [
        ""
      ],
      "execution_count": null,
      "outputs": []
    },
    {
      "cell_type": "code",
      "metadata": {
        "colab": {
          "base_uri": "https://localhost:8080/"
        },
        "id": "HB8QqVKQcxPi",
        "outputId": "6cab9627-e745-4d04-842f-7c06c4eb6e87"
      },
      "source": [
        "#Question3\n",
        "#sum the elements whose position is an even number (0,2,4…) and multiply the rest.\n",
        "def somme_paire_produit_impaire(l):\n",
        "  \n",
        "  l=list(l)\n",
        "  for i in range (len(l)):\n",
        "    l[i]=int(l[i])\n",
        "  s=[]\n",
        "  for i in range (len(l)):\n",
        "    if i%2==0:\n",
        "      s.append(l[i])\n",
        "    else:\n",
        "     continue\n",
        "  p=[]\n",
        "  for i in range (len(l)):\n",
        "    if not (i%2==0):\n",
        "      p.append(l[i])\n",
        "    else:\n",
        "      continue\n",
        "  return somme(s),produit(p)\n",
        "print(somme_paire_produit_impaire([1,2,3,4,5,6]))\n",
        "  \n",
        "\n",
        "  "
      ],
      "execution_count": 9,
      "outputs": [
        {
          "output_type": "stream",
          "text": [
            "(9, 48)\n"
          ],
          "name": "stdout"
        }
      ]
    },
    {
      "cell_type": "code",
      "metadata": {
        "colab": {
          "base_uri": "https://localhost:8080/"
        },
        "id": "iEo2CKtPiPJU",
        "outputId": "156be958-e6ed-4f1e-ff8d-436fcae7a444"
      },
      "source": [
        "#Question 4\n",
        "a=str(input(\"donnez une chaine de caractère\" ))\n",
        "c=\"\"\n",
        "b=a.split(\"-\")\n",
        "b.sort()\n",
        "\n",
        "for i in range(len(b)):\n",
        "  if i!=0:\n",
        "    c=c+\"-\"+b[i]\n",
        "  else:\n",
        "    c=c+b[i]\n",
        "print(c)\n",
        "\n"
      ],
      "execution_count": 24,
      "outputs": [
        {
          "output_type": "stream",
          "text": [
            "donnez une chaine de caractèregreen-red-yellow-black-white\n",
            "black-green-red-white-yellow\n"
          ],
          "name": "stdout"
        }
      ]
    }
  ]
}