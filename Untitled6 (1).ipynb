{
  "nbformat": 4,
  "nbformat_minor": 0,
  "metadata": {
    "colab": {
      "name": "Untitled6.ipynb",
      "provenance": []
    },
    "kernelspec": {
      "name": "python3",
      "display_name": "Python 3"
    },
    "language_info": {
      "name": "python"
    }
  },
  "cells": [
    {
      "cell_type": "code",
      "metadata": {
        "id": "HBgcNLLundOW"
      },
      "source": [
        "def factorielle(n): #j'ai travaillé avec la fonction récursive\n",
        "  if n==0:\n",
        "    return 1\n",
        "  else:\n",
        "    return n*factorielle(n-1)"
      ],
      "execution_count": 4,
      "outputs": []
    },
    {
      "cell_type": "code",
      "metadata": {
        "colab": {
          "base_uri": "https://localhost:8080/"
        },
        "id": "-MKrpV5pn_er",
        "outputId": "e13000e6-ef3e-40b7-85f9-c31944fc056b"
      },
      "source": [
        "factorielle(4)"
      ],
      "execution_count": 5,
      "outputs": [
        {
          "output_type": "execute_result",
          "data": {
            "text/plain": [
              "24"
            ]
          },
          "metadata": {
            "tags": []
          },
          "execution_count": 5
        }
      ]
    }
  ]
}