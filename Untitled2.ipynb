{
  "nbformat": 4,
  "nbformat_minor": 0,
  "metadata": {
    "colab": {
      "name": "Untitled2.ipynb",
      "provenance": []
    },
    "kernelspec": {
      "name": "python3",
      "display_name": "Python 3"
    },
    "language_info": {
      "name": "python"
    }
  },
  "cells": [
    {
      "cell_type": "code",
      "metadata": {
        "colab": {
          "base_uri": "https://localhost:8080/"
        },
        "id": "arUFCtSyYY27",
        "outputId": "1e2af846-8e92-4043-f00c-2ccb12711cb5"
      },
      "source": [
        "a=int(input(\"write a number\"))\n",
        "if (a%2)==0 :\n",
        "  print(\"this number is even\")\n",
        "else:\n",
        "  print(\"this number is odd\")"
      ],
      "execution_count": 3,
      "outputs": [
        {
          "output_type": "stream",
          "text": [
            "write a number2\n",
            "this number is even\n"
          ],
          "name": "stdout"
        }
      ]
    }
  ]
}