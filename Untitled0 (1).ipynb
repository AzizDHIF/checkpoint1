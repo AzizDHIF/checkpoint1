{
  "nbformat": 4,
  "nbformat_minor": 0,
  "metadata": {
    "colab": {
      "name": "Untitled0.ipynb",
      "provenance": []
    },
    "kernelspec": {
      "name": "python3",
      "display_name": "Python 3"
    },
    "language_info": {
      "name": "python"
    }
  },
  "cells": [
    {
      "cell_type": "code",
      "metadata": {
        "colab": {
          "base_uri": "https://localhost:8080/"
        },
        "id": "-DYqkYd-RE1o",
        "outputId": "93e7ebc9-06dd-41ad-9a7c-25ff9e73f732"
      },
      "source": [
        "firstname=input(\"write your first name \")\n",
        "lastname=input(\"write your last name\")\n",
        "a=\" \"\n",
        "print(firstname+a+lastname)"
      ],
      "execution_count": 2,
      "outputs": [
        {
          "output_type": "stream",
          "text": [
            "write your first name aziz\n",
            "write your last namedhif\n",
            "aziz dhif\n"
          ],
          "name": "stdout"
        }
      ]
    }
  ]
}