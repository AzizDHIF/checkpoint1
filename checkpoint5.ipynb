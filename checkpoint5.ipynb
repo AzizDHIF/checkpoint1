{
  "nbformat": 4,
  "nbformat_minor": 0,
  "metadata": {
    "colab": {
      "name": "checkpoint5.ipynb",
      "provenance": []
    },
    "kernelspec": {
      "name": "python3",
      "display_name": "Python 3"
    },
    "language_info": {
      "name": "python"
    }
  },
  "cells": [
    {
      "cell_type": "markdown",
      "metadata": {
        "id": "TILWzjjxWkPq"
      },
      "source": [
        "**QUESTION1**  Write a python class named Point3D defined by x, y, and z. Define a method that returns (x, y ,z). This tells Python to represent this object in the following format: (x, y, z). Then create a variable named my_point containing a new instance of Point3D with x=1, y=2, and z=3 and print it.\n",
        "**QUESTION2** Write a Python class named Rectangle constructed by a length and width. Define two methods area and perimeter which will compute the area and the perimeter of the rectangle. Then create a variable named my_rectangle containing a new instance of Rectangle with width=3 and length = 4 and compute both of area and perimeter ( the area is expected to be 3*4=12 and perimeter 2*(3+4)=14)\n",
        "**QUESTION3** Write a Python  class named Circle constructed by its center O and radius r. Define two methods area and perimeter which will compute the area and the perimeter of the circle, and isInside() method of the class which allows to test whether a point A(x, y) belongs to the circle C(O, r) or not.\n",
        "**QUESTION4** Suppose we want to model a bank account with support for deposit and withdraw operations. Let’s create a python class named bank defined by its balance. Define two methods deposit and withdraw to compute the new amount of each operation.\n",
        "```\n",
        "# Ce texte est au format code\n",
        "```\n",
        "\n"
      ]
    },
    {
      "cell_type": "code",
      "metadata": {
        "colab": {
          "base_uri": "https://localhost:8080/"
        },
        "id": "Alro1wHqBdV3",
        "outputId": "0076812b-2e4c-44f9-a74e-2474e0576971"
      },
      "source": [
        "#Question1:\n",
        "class Point3D:\n",
        "  def __init__(self,x,y,z):\n",
        "    self.x=x\n",
        "    self.y=y\n",
        "    self.z=z\n",
        "\n",
        "  def afficher(self):\n",
        "    return self.x,self.y,self.z\n",
        "my_point=Point3D(1,2,3)\n",
        "print(my_point.afficher())"
      ],
      "execution_count": 6,
      "outputs": [
        {
          "output_type": "stream",
          "text": [
            "(1, 2, 3)\n"
          ],
          "name": "stdout"
        }
      ]
    },
    {
      "cell_type": "code",
      "metadata": {
        "colab": {
          "base_uri": "https://localhost:8080/"
        },
        "id": "-7DkEmfmcTGo",
        "outputId": "199b39ef-da86-4be0-bf0f-5dca8d0f7c33"
      },
      "source": [
        "#QUESTION2\n",
        "class rectangle:\n",
        "  def __init__(self,longueur,largeur):\n",
        "    self.longueur=longueur\n",
        "    self.largeur=largeur\n",
        "  def périmetre(self):\n",
        "    return (self.longueur+self.largeur)*2\n",
        "  def aire(self):\n",
        "    return (self.longueur*self.largeur)\n",
        "my_rectangle=rectangle(4,3)\n",
        "print(\"le périmetre est égale à {} et l'aire est égale à {}\".format(my_rectangle.périmetre(),my_rectangle.aire()))\n",
        "\n",
        "\n"
      ],
      "execution_count": 9,
      "outputs": [
        {
          "output_type": "stream",
          "text": [
            "le périmetre est égale à 14 et l'aire est égale à 12\n"
          ],
          "name": "stdout"
        }
      ]
    },
    {
      "cell_type": "code",
      "metadata": {
        "colab": {
          "base_uri": "https://localhost:8080/"
        },
        "id": "LplbOAUCgenx",
        "outputId": "a06834dd-1245-49ec-cccf-486731c10f6a"
      },
      "source": [
        "#QUESTION3\n",
        "class circle:\n",
        "  def __init__(self,o,r):\n",
        "    self.o=o\n",
        "    self.r=r\n",
        "  def aire(self):\n",
        "    return ((self.r)**2)*3.14\n",
        "  def périmètre(self):\n",
        "    return 2*self.r*3.14\n",
        "  def isInside(self,x,y):\n",
        "    if abs(x)<=self.r and abs(y)<=self.r:\n",
        "      return \"le point est dans le cercle\"\n",
        "    else :\n",
        "      return \"le point n'est pas dans le cercle\"\n",
        "my_circle=circle(\"o\",3)\n",
        "print(\"l'aire de ce cercle est égale à {}\".format(my_circle.aire()))\n",
        "print(\"le périmetre  de ce cercle est égale à {}\".format(my_circle.périmètre()))\n",
        "print(my_circle.isInside(0,4))\n",
        "    \n",
        "\n"
      ],
      "execution_count": 13,
      "outputs": [
        {
          "output_type": "stream",
          "text": [
            "l'aire de ce cercle est égale à 28.26\n",
            "le périmetre  de ce cercle est égale à 18.84\n",
            "le point n'est pas dans le cercle\n"
          ],
          "name": "stdout"
        }
      ]
    },
    {
      "cell_type": "code",
      "metadata": {
        "colab": {
          "base_uri": "https://localhost:8080/"
        },
        "id": "IDEL7qcbqOUI",
        "outputId": "e549dbd6-f717-4be8-8013-4c6204117e94"
      },
      "source": [
        "#QUESTION4\n",
        "\n",
        "class bank:\n",
        "  def __init__(self,montant):\n",
        "    self.montant=montant\n",
        "  def retrait(self,x):\n",
        "    return self.montant-x\n",
        "  def dépôt(self,x):\n",
        "    return self.montant+x\n",
        "moncompte=bank(200)\n",
        "print(\"votre montant, après dépot, est de {}\".format(moncompte.dépôt(100)))\n",
        "print(\"votre montant, après retrait, est de {}\".format(moncompte.retrait(100)))"
      ],
      "execution_count": 15,
      "outputs": [
        {
          "output_type": "stream",
          "text": [
            "votre montant, après dépot, est de 300\n",
            "votre montant, après retrait, est de 100\n"
          ],
          "name": "stdout"
        }
      ]
    }
  ]
}