{
  "nbformat": 4,
  "nbformat_minor": 0,
  "metadata": {
    "colab": {
      "name": "Untitled8.ipynb",
      "provenance": []
    },
    "kernelspec": {
      "name": "python3",
      "display_name": "Python 3"
    },
    "language_info": {
      "name": "python"
    }
  },
  "cells": [
    {
      "cell_type": "code",
      "metadata": {
        "colab": {
          "base_uri": "https://localhost:8080/"
        },
        "id": "LDVYI4GpuGUN",
        "outputId": "271927fc-77eb-4c99-a48e-74ccea6ac383"
      },
      "source": [
        "x=float(input(\"write a price\"))\n",
        "if x<0:\n",
        "  print(\"error\")\n",
        "elif x>=500:\n",
        "  print(\"it will be a 50% discount\")\n",
        "elif (x>=200) and (x<500):\n",
        "  print(\"it will be a 30% discount\")\n",
        "elif (x<200):\n",
        "  print(\"it will be a 10% discount\")\n",
        "  \n"
      ],
      "execution_count": 1,
      "outputs": [
        {
          "output_type": "stream",
          "text": [
            "write a price50\n",
            "it will be a 10% discount\n"
          ],
          "name": "stdout"
        }
      ]
    }
  ]
}