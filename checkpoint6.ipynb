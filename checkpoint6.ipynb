{
  "nbformat": 4,
  "nbformat_minor": 0,
  "metadata": {
    "colab": {
      "name": "checkpoint6.ipynb",
      "provenance": []
    },
    "kernelspec": {
      "name": "python3",
      "display_name": "Python 3"
    },
    "language_info": {
      "name": "python"
    }
  },
  "cells": [
    {
      "cell_type": "code",
      "metadata": {
        "colab": {
          "base_uri": "https://localhost:8080/"
        },
        "id": "YHLRMGXhxHEO",
        "outputId": "176edd7d-89bc-4e38-e0d3-922d6bb7e84b"
      },
      "source": [
        "#QUEQTION1\n",
        "c=int(input(\"choissez le nombre de ligne de votre matrice\"))\n",
        "b=int(input(\"choissez le nombre de colonne de votre matrice\"))\n",
        "m=[]\n",
        "for i in range (c):\n",
        "  m.append([0]*b)\n",
        "  for j in range (b):\n",
        "    m[i][j]=input(\"entrez les éléments de la matrice\")\n",
        "import numpy as np\n",
        "matr=np.array(m)\n",
        "print(matr.tolist())\n",
        "\n",
        "    "
      ],
      "execution_count": 36,
      "outputs": [
        {
          "output_type": "stream",
          "text": [
            "choissez le nombre de ligne de votre matrice2\n",
            "choissez le nombre de colonne de votre matrice2\n",
            "entrez les éléments de la matrice1\n",
            "entrez les éléments de la matrice2\n",
            "entrez les éléments de la matrice1\n",
            "entrez les éléments de la matrice2\n",
            "[['1', '2'], ['1', '2']]\n"
          ],
          "name": "stdout"
        }
      ]
    },
    {
      "cell_type": "code",
      "metadata": {
        "colab": {
          "base_uri": "https://localhost:8080/"
        },
        "id": "7VBG_VAnBvCV",
        "outputId": "f7a53720-ee37-4112-9449-58a432af426b"
      },
      "source": [
        "#QUESTION2 PART1\n",
        "\n",
        "c=int(input(\"choissez le nombre de ligne de votre matrice\"))\n",
        "b=int(input(\"choissez le nombre de colonne de votre matrice\"))\n",
        "m=[]\n",
        "f=0\n",
        "for i in range (c):\n",
        "  m.append([0]*b)\n",
        "  for j in range (b):\n",
        "    m[i][j]=int(input(\"entrez les éléments de la matrice\"))\n",
        "import numpy as np\n",
        "matr=np.array(m)\n",
        "for i in range (c):\n",
        "  for j in range (b):\n",
        "    if i==j:\n",
        "      f=f+matr[i,j]\n",
        "    else:\n",
        "      continue\n",
        "print(f)\n"
      ],
      "execution_count": 40,
      "outputs": [
        {
          "output_type": "stream",
          "text": [
            "choissez le nombre de ligne de votre matrice2\n",
            "choissez le nombre de colonne de votre matrice2\n",
            "entrez les éléments de la matrice1\n",
            "entrez les éléments de la matrice2\n",
            "entrez les éléments de la matrice1\n",
            "entrez les éléments de la matrice2\n",
            "3\n"
          ],
          "name": "stdout"
        }
      ]
    },
    {
      "cell_type": "code",
      "metadata": {
        "colab": {
          "base_uri": "https://localhost:8080/"
        },
        "id": "JRDhOJCXDp_j",
        "outputId": "4ce25eec-f2eb-48dd-ae12-7d0e8edf8aaa"
      },
      "source": [
        "#QUESTION2 PART2\n",
        "c=int(input(\"choissez le nombre de ligne de votre matrice\"))\n",
        "b=int(input(\"choissez le nombre de colonne de votre matrice\"))\n",
        "m=[]\n",
        "f=0\n",
        "for i in range (c):\n",
        "  m.append([0]*b)\n",
        "  for j in range (b):\n",
        "    m[i][j]=int(input(\"entrez les éléments de la matrice\"))\n",
        "import numpy as np\n",
        "matr=np.array(m)\n",
        "print(matr.trace())"
      ],
      "execution_count": 41,
      "outputs": [
        {
          "output_type": "stream",
          "text": [
            "choissez le nombre de ligne de votre matrice2\n",
            "choissez le nombre de colonne de votre matrice2\n",
            "entrez les éléments de la matrice1\n",
            "entrez les éléments de la matrice2\n",
            "entrez les éléments de la matrice1\n",
            "entrez les éléments de la matrice2\n",
            "3\n"
          ],
          "name": "stdout"
        }
      ]
    },
    {
      "cell_type": "code",
      "metadata": {
        "colab": {
          "base_uri": "https://localhost:8080/"
        },
        "id": "VPdQxMKPEK_y",
        "outputId": "b34d1367-9ee0-4c98-ad5c-337cdf97e5a0"
      },
      "source": [
        "#QUESTION3\n",
        "c=int(input(\"choissez le nombre de ligne de votre matrice\"))\n",
        "b=int(input(\"choissez le nombre de colonne de votre matrice\"))\n",
        "x=int(input(\"donnez un nombre\"))\n",
        "m=[]\n",
        "for i in range (c):\n",
        "  m.append([0]*b)\n",
        "  for j in range (b):\n",
        "    m[i][j]=int(input(\"entrez les éléments de la matrice\"))\n",
        "import numpy as np\n",
        "matr=np.array(m)\n",
        "for i in range (c):\n",
        "  for j in range (b):\n",
        "    if matr[i,j]>x:\n",
        "      print(matr[i,j])\n",
        "    else:\n",
        "      continue\n"
      ],
      "execution_count": 44,
      "outputs": [
        {
          "output_type": "stream",
          "text": [
            "choissez le nombre de ligne de votre matrice2\n",
            "choissez le nombre de colonne de votre matrice2\n",
            "donnez un nombre3\n",
            "entrez les éléments de la matrice4\n",
            "entrez les éléments de la matrice5\n",
            "entrez les éléments de la matrice6\n",
            "entrez les éléments de la matrice7\n",
            "4\n",
            "5\n",
            "6\n",
            "7\n"
          ],
          "name": "stdout"
        }
      ]
    },
    {
      "cell_type": "code",
      "metadata": {
        "colab": {
          "base_uri": "https://localhost:8080/"
        },
        "id": "kmncszFGGLWp",
        "outputId": "c4b983ad-1620-4ac0-d45d-08335c1af8b4"
      },
      "source": [
        "#QUESTION4\n",
        "c=int(input(\"choissez le nombre de ligne de votre matrice\"))\n",
        "b=int(input(\"choissez le nombre de colonne de votre matrice\"))\n",
        "m=[]\n",
        "\n",
        "for i in range (c):\n",
        "  m.append([0]*b)\n",
        "  for j in range (b):\n",
        "    m[i][j]=int(input(\"entrez les éléments de la matrice\"))\n",
        "import numpy as np\n",
        "matr=np.array(m)\n",
        "\n",
        "g=[]\n",
        "\n",
        "for i in range (c):\n",
        "  g.append([0]*b)\n",
        "  for j in range (b):\n",
        "    g[i][j]=int(input(\"entrez les éléments de la matrice\"))\n",
        "import numpy as np\n",
        "matr2=np.array(g)\n",
        "c=matr+matr2\n",
        "print(c)\n",
        "\n"
      ],
      "execution_count": 45,
      "outputs": [
        {
          "output_type": "stream",
          "text": [
            "choissez le nombre de ligne de votre matrice2\n",
            "choissez le nombre de colonne de votre matrice2\n",
            "entrez les éléments de la matrice1\n",
            "entrez les éléments de la matrice2\n",
            "entrez les éléments de la matrice1\n",
            "entrez les éléments de la matrice2\n",
            "entrez les éléments de la matrice1\n",
            "entrez les éléments de la matrice2\n",
            "entrez les éléments de la matrice1\n",
            "entrez les éléments de la matrice2\n",
            "[[2 4]\n",
            " [2 4]]\n"
          ],
          "name": "stdout"
        }
      ]
    },
    {
      "cell_type": "code",
      "metadata": {
        "colab": {
          "base_uri": "https://localhost:8080/"
        },
        "id": "O-GSHbXxH7kZ",
        "outputId": "643e738f-32bd-422c-9cca-36adb3a34747"
      },
      "source": [
        "#QUESTION5\n",
        "c=int(input(\"choissez le nombre de ligne de votre matrice\"))\n",
        "b=int(input(\"choissez le nombre de colonne de votre matrice\"))\n",
        "m=[]\n",
        "\n",
        "for i in range (c):\n",
        "  m.append([0]*b)\n",
        "  for j in range (b):\n",
        "    m[i][j]=int(input(\"entrez les éléments de la matrice\"))\n",
        "import numpy as np\n",
        "matr=np.array(m)\n",
        "for i in range (c):\n",
        "  print(matr[i,:].mean()) "
      ],
      "execution_count": 50,
      "outputs": [
        {
          "output_type": "stream",
          "text": [
            "choissez le nombre de ligne de votre matrice2\n",
            "choissez le nombre de colonne de votre matrice2\n",
            "entrez les éléments de la matrice1\n",
            "entrez les éléments de la matrice2\n",
            "entrez les éléments de la matrice1\n",
            "entrez les éléments de la matrice2\n",
            "1.5\n",
            "1.5\n"
          ],
          "name": "stdout"
        }
      ]
    }
  ]
}