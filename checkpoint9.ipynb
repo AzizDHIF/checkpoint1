{
  "nbformat": 4,
  "nbformat_minor": 0,
  "metadata": {
    "colab": {
      "name": "checkpoint9.ipynb",
      "provenance": []
    },
    "kernelspec": {
      "name": "python3",
      "display_name": "Python 3"
    },
    "language_info": {
      "name": "python"
    }
  },
  "cells": [
    {
      "cell_type": "code",
      "metadata": {
        "id": "GqthIgP2k_z7"
      },
      "source": [
        "#Let's Write a Python program for binary search.\n",
        "def binary_search(l, num_find):\n",
        "    \n",
        "    start = 0\n",
        "    end = len(l) - 1\n",
        "    mid = (start + end) // 2\n",
        "    \n",
        "     \n",
        "    found = False\n",
        "    position = -1\n",
        "\n",
        "    while start <= end:\n",
        "        if l[mid] == num_find:\n",
        "            found = True\n",
        "            position = mid\n",
        "            break\n",
        "        \n",
        "        if num_find > l[mid]:\n",
        "            start = mid + 1\n",
        "            mid = (start + end) // 2\n",
        "        else:\n",
        "            end = mid - 1\n",
        "            mid = (start + end) // 2\n",
        "\n",
        "    return (found, position)\n",
        "\n",
        "    \n",
        "if __name__=='__main__':\n",
        "    \n",
        "    l = [0, 1, 2, 3, 4, 5, 6, 7, 8, 9]\n",
        "    num = 6\n",
        "    found = binary_search(l, num)\n",
        "    if found[0]:\n",
        "        print(\"true\")\n",
        "    else:\n",
        "        print(\"false\")\n",
        "print(binary_search([1,2,3,4,5], 5))"
      ],
      "execution_count": null,
      "outputs": []
    },
    {
      "cell_type": "code",
      "metadata": {
        "colab": {
          "base_uri": "https://localhost:8080/"
        },
        "id": "n-oVnpBJlHNE",
        "outputId": "85ad2bb9-ccc3-4aeb-d122-ccd4b769eeee"
      },
      "source": [
        "#Let's Write a Python program to calculate the value of 'a' to the power 'b'\n",
        "def puissance(a,b):\n",
        "  return a**b\n",
        "print(puissance(3,4))\n"
      ],
      "execution_count": 1,
      "outputs": [
        {
          "output_type": "stream",
          "text": [
            "81\n"
          ],
          "name": "stdout"
        }
      ]
    },
    {
      "cell_type": "code",
      "metadata": {
        "colab": {
          "base_uri": "https://localhost:8080/"
        },
        "id": "RKFCIGZCl3sK",
        "outputId": "06b6035f-1445-49f3-f070-99a72fa6e2c8"
      },
      "source": [
        "#Let's Write a Python program to sort a list of elements using the bubble sort algorithm.\n",
        "def bubblesort(nlist):\n",
        "    for passnum in range(len(nlist)-1,0,-1):\n",
        "        for i in range(passnum):\n",
        "            if nlist[i]>nlist[i+1]:\n",
        "                temp = nlist[i]\n",
        "                nlist[i] = nlist[i+1]\n",
        "                nlist[i+1] = temp\n",
        "l=[3,7,5,6]\n",
        "bubblesort(l)\n",
        "print(l)\n"
      ],
      "execution_count": 5,
      "outputs": [
        {
          "output_type": "stream",
          "text": [
            "[3, 5, 6, 7]\n"
          ],
          "name": "stdout"
        }
      ]
    },
    {
      "cell_type": "code",
      "metadata": {
        "colab": {
          "base_uri": "https://localhost:8080/"
        },
        "id": "FqSYlKQEnFtd",
        "outputId": "193d61cf-3e47-4b8a-930c-6caf8fff4f10"
      },
      "source": [
        "#Let's Write a Python program to sort a list of elements using the merge sort algorithm.\n",
        "def mergeSort(l):\n",
        "    \n",
        "    if len(l)>1:\n",
        "        mid = len(l)//2\n",
        "        lefthalf = l[:mid]\n",
        "        righthalf = l[mid:]\n",
        "\n",
        "        mergeSort(lefthalf)\n",
        "        mergeSort(righthalf)\n",
        "        i=j=k=0       \n",
        "        while i < len(lefthalf) and j < len(righthalf):\n",
        "            if lefthalf[i] < righthalf[j]:\n",
        "                l[k]=lefthalf[i]\n",
        "                i=i+1\n",
        "            else:\n",
        "                l[k]=righthalf[j]\n",
        "                j=j+1\n",
        "            k=k+1\n",
        "\n",
        "        while i < len(lefthalf):\n",
        "            l[k]=lefthalf[i]\n",
        "            i=i+1\n",
        "            k=k+1\n",
        "\n",
        "        while j < len(righthalf):\n",
        "            l[k]=righthalf[j]\n",
        "            j=j+1\n",
        "            k=k+1\n",
        "    \n",
        "\n",
        "l = [14,46,43,27,57,41,45,21,70]\n",
        "mergeSort(l)\n",
        "print(l)"
      ],
      "execution_count": 7,
      "outputs": [
        {
          "output_type": "stream",
          "text": [
            "[14, 21, 27, 41, 43, 45, 46, 57, 70]\n"
          ],
          "name": "stdout"
        }
      ]
    },
    {
      "cell_type": "code",
      "metadata": {
        "colab": {
          "base_uri": "https://localhost:8080/"
        },
        "id": "dr9xwfZ7oJcE",
        "outputId": "cdbd15a2-471f-40b8-9950-361d302a0561"
      },
      "source": [
        "#Let's Write a Python program to sort a list of elements using the quick sort algorithm.\n",
        "def bubbleSort(l):\n",
        "    for j in range(len(l)-1,0,-1):\n",
        "        for i in range(j):\n",
        "            if l[i]>l[i+1]:\n",
        "                temp = l[i]\n",
        "                l[i] = l[i+1]\n",
        "                l[i+1] = temp\n",
        "\n",
        "l = [14,46,43,27,57,41,45,21,70]\n",
        "bubbleSort(l)\n",
        "print(l)"
      ],
      "execution_count": 9,
      "outputs": [
        {
          "output_type": "stream",
          "text": [
            "[14, 21, 27, 41, 43, 45, 46, 57, 70]\n"
          ],
          "name": "stdout"
        }
      ]
    }
  ]
}