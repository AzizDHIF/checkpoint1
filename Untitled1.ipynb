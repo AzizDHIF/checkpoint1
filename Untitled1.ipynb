{
  "nbformat": 4,
  "nbformat_minor": 0,
  "metadata": {
    "colab": {
      "name": "Untitled1.ipynb",
      "provenance": []
    },
    "kernelspec": {
      "name": "python3",
      "display_name": "Python 3"
    },
    "language_info": {
      "name": "python"
    }
  },
  "cells": [
    {
      "cell_type": "code",
      "metadata": {
        "colab": {
          "base_uri": "https://localhost:8080/"
        },
        "id": "VagoCxhiVObS",
        "outputId": "afb8ea7a-5acb-434f-82fb-6c0bae00a07a"
      },
      "source": [
        "n=int(input(\"entrez un entier\"))\n",
        "print((n)+((n*10)+n)+((n*100)+(n*10)+(n)))\n",
        "\n"
      ],
      "execution_count": 1,
      "outputs": [
        {
          "output_type": "stream",
          "text": [
            "entrez un entier5\n",
            "615\n"
          ],
          "name": "stdout"
        }
      ]
    }
  ]
}