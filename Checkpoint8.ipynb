{
  "nbformat": 4,
  "nbformat_minor": 0,
  "metadata": {
    "colab": {
      "name": "Checkpoint8.ipynb",
      "provenance": []
    },
    "kernelspec": {
      "name": "python3",
      "display_name": "Python 3"
    },
    "language_info": {
      "name": "python"
    }
  },
  "cells": [
    {
      "cell_type": "code",
      "metadata": {
        "colab": {
          "base_uri": "https://localhost:8080/",
          "height": 137
        },
        "id": "IDt8LyCCcl_F",
        "outputId": "ce9ed097-3c18-4041-cf54-a2eb08256841"
      },
      "source": [
        "#Let's Write a Python program to read an entire text file\n",
        "f = open(\"python.txt\",'r',encoding = 'utf-8')\n",
        "f.read()\n",
        "\n",
        "\n",
        "\n",
        "\n",
        "\n",
        "\n",
        "\n",
        "\n"
      ],
      "execution_count": 11,
      "outputs": [
        {
          "output_type": "execute_result",
          "data": {
            "application/vnd.google.colaboratory.intrinsic+json": {
              "type": "string"
            },
            "text/plain": [
              "'What is Python language?                                                \\nPython is a widely used high-level, general-purpose, interpreted, dynamic programming language.Its design philosophy emphasizes code readability, and its syntax allows programmers to express concepts in fewer lines of code than possible in \\nlanguages such as C++ or Java. \\nPython supports multiple programming paradigms, including object-oriented, imperative and functional programming or procedural styles. It features a dynamic type system and automatic memory management and has a large and comprehensive standard library.The best way we learn anything is by practice and exercise questions. We  have started this section for those (beginner to intermediate) who are familiar with Python.'"
            ]
          },
          "metadata": {
            "tags": []
          },
          "execution_count": 11
        }
      ]
    },
    {
      "cell_type": "code",
      "metadata": {
        "colab": {
          "base_uri": "https://localhost:8080/"
        },
        "id": "e43FOdxpDRyA",
        "outputId": "1a079199-7815-4705-80bf-8f1ef3ec3218"
      },
      "source": [
        "#Let's Write a Python program to read first n lines of a file.\n",
        "def read_lines(filename,n,):\n",
        "\twith open(filename) as f:\n",
        "\t\tfor i in range(n):\n",
        "\t\t\tprint(f.readline())\n",
        "print(read_lines(\"python.txt\",2,))\n"
      ],
      "execution_count": 17,
      "outputs": [
        {
          "output_type": "stream",
          "text": [
            "What is Python language?                                                \n",
            "\n",
            "Python is a widely used high-level, general-purpose, interpreted, dynamic programming language.Its design philosophy emphasizes code readability, and its syntax allows programmers to express concepts in fewer lines of code than possible in \n",
            "\n",
            "None\n"
          ],
          "name": "stdout"
        }
      ]
    },
    {
      "cell_type": "code",
      "metadata": {
        "colab": {
          "base_uri": "https://localhost:8080/"
        },
        "id": "jzCDUBhAE1qJ",
        "outputId": "b1b55ef5-1d42-4456-e6e4-aa8d314ce7dd"
      },
      "source": [
        "#Let's Write a Python program to read last n lines of a file\n",
        "def last_n_lines(f,n,):\n",
        "  with open(f) as file:\n",
        "    print(\"last\",n,f)\n",
        "    for line in (file.readlines() [-n:]):\n",
        "      print(line,end=\"\")\n",
        "print(last_n_lines(\"python.txt\",3,))\n"
      ],
      "execution_count": 20,
      "outputs": [
        {
          "output_type": "stream",
          "text": [
            "last 3 python.txt\n",
            "Python is a widely used high-level, general-purpose, interpreted, dynamic programming language.Its design philosophy emphasizes code readability, and its syntax allows programmers to express concepts in fewer lines of code than possible in \n",
            "languages such as C++ or Java. \n",
            "Python supports multiple programming paradigms, including object-oriented, imperative and functional programming or procedural styles. It features a dynamic type system and automatic memory management and has a large and comprehensive standard library.The best way we learn anything is by practice and exercise questions. We  have started this section for those (beginner to intermediate) who are familiar with Python.None\n"
          ],
          "name": "stdout"
        }
      ]
    },
    {
      "cell_type": "code",
      "metadata": {
        "colab": {
          "base_uri": "https://localhost:8080/"
        },
        "id": "sMefn1PNHZ_-",
        "outputId": "8c149e27-0c02-4b9c-d4ca-403157c43a32"
      },
      "source": [
        "#Let's Write a Python program that takes a text file as input and returns the number of words of a given text file.\n",
        "def number_of_word(file):\n",
        "   with open(file) as f:\n",
        "       data = f.read()\n",
        "       data.replace(\",\", \" \")\n",
        "       return len(data.split(\" \"))\n",
        "print(number_of_word(\"python.txt\"))\n"
      ],
      "execution_count": 21,
      "outputs": [
        {
          "output_type": "stream",
          "text": [
            "148\n"
          ],
          "name": "stdout"
        }
      ]
    },
    {
      "cell_type": "code",
      "metadata": {
        "id": "Y2QPU30iCx4T"
      },
      "source": [
        ""
      ],
      "execution_count": null,
      "outputs": []
    }
  ]
}