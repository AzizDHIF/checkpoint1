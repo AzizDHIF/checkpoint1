{
  "nbformat": 4,
  "nbformat_minor": 0,
  "metadata": {
    "colab": {
      "name": "Untitled10.ipynb",
      "provenance": []
    },
    "kernelspec": {
      "name": "python3",
      "display_name": "Python 3"
    },
    "language_info": {
      "name": "python"
    }
  },
  "cells": [
    {
      "cell_type": "code",
      "metadata": {
        "id": "PuLhsjWD0nUv"
      },
      "source": [
        "#question1\n",
        "firstname=input(\"write your first name \")\n",
        "lastname=input(\"write your last name\")\n",
        "a=\" \"\n",
        "print(firstname+a+lastname)"
      ],
      "execution_count": null,
      "outputs": []
    },
    {
      "cell_type": "code",
      "metadata": {
        "id": "KwUaqCfp0tAv"
      },
      "source": [
        "#question2\n",
        "n=int(input(\"entrez un entier\"))\n",
        "print((n)+((n*10)+n)+((n*100)+(n*10)+(n)))"
      ],
      "execution_count": null,
      "outputs": []
    },
    {
      "cell_type": "code",
      "metadata": {
        "id": "DZNc7hGq0yGw"
      },
      "source": [
        "#question3\n",
        "a=int(input(\"write a number\"))\n",
        "if (a%2)==0 :\n",
        "  print(\"this number is even\")\n",
        "else:\n",
        "  print(\"this number is odd\")"
      ],
      "execution_count": null,
      "outputs": []
    },
    {
      "cell_type": "code",
      "metadata": {
        "id": "EBxD9Cwt023X"
      },
      "source": [
        "#question4\n",
        "for i in range (2000,3201) :\n",
        "  if (i%7)==0 and not(i%5==0):\n",
        "    print(i)\n",
        "  else:\n",
        "    continue"
      ],
      "execution_count": null,
      "outputs": []
    },
    {
      "cell_type": "code",
      "metadata": {
        "id": "HxmDHH4n08ts"
      },
      "source": [
        "#question5\n",
        "def factorielle(n): #j'ai travaillé avec la fonction récursive\n",
        "  if n==0:\n",
        "    return 1\n",
        "  else:\n",
        "    return n*factorielle(n-1)"
      ],
      "execution_count": null,
      "outputs": []
    },
    {
      "cell_type": "code",
      "metadata": {
        "colab": {
          "base_uri": "https://localhost:8080/"
        },
        "id": "D54N-zNL1R0o",
        "outputId": "5e32fa3c-34d2-49d6-a9d6-d36210da6209"
      },
      "source": [
        "#question6\n",
        "x=str(input(\"write a string\"))\n",
        "print(x[0:len(x):2])"
      ],
      "execution_count": 1,
      "outputs": [
        {
          "output_type": "stream",
          "text": [
            "write a stringabsde\n",
            "ase\n"
          ],
          "name": "stdout"
        }
      ]
    },
    {
      "cell_type": "code",
      "metadata": {
        "id": "jok8nKU41kWl"
      },
      "source": [
        "#question7\n",
        "x=float(input(\"write a price\"))\n",
        "if x<0:\n",
        "  print(\"error\")\n",
        "elif x>=500:\n",
        "  print(\"it will be a 50% discount\")\n",
        "elif (x>=200) and (x<500):\n",
        "  print(\"it will be a 30% discount\")\n",
        "elif (x<200):\n",
        "  print(\"it will be a 10% discount\")"
      ],
      "execution_count": null,
      "outputs": []
    }
  ]
}