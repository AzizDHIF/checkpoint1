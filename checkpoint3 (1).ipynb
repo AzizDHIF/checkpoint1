{
  "nbformat": 4,
  "nbformat_minor": 0,
  "metadata": {
    "colab": {
      "name": "checkpoint3.ipynb",
      "provenance": []
    },
    "kernelspec": {
      "name": "python3",
      "display_name": "Python 3"
    },
    "language_info": {
      "name": "python"
    }
  },
  "cells": [
    {
      "cell_type": "code",
      "metadata": {
        "colab": {
          "base_uri": "https://localhost:8080/"
        },
        "id": "PqUq_dLYj1Ff",
        "outputId": "efc02530-8199-4578-baed-72858625ff15"
      },
      "source": [
        "#QUESTION1\n",
        "a=int(input(\"choisissez la taille de votre liste: \"))\n",
        "l=[\"\"]*a\n",
        "\n",
        "for i in range (a):\n",
        "  l[i]=int(input(\"donnez un entier: \"))\n",
        "\n",
        "b=1\n",
        "for i in range (a):\n",
        "  b=b*(l[i])\n",
        "print(b)\n",
        "\n",
        "\n",
        "     \n",
        "  \n",
        "\n"
      ],
      "execution_count": null,
      "outputs": [
        {
          "output_type": "stream",
          "text": [
            "choisissez la taille de votre liste: 4\n",
            "donnez un entier: 1\n",
            "donnez un entier: 2\n",
            "donnez un entier: 3\n",
            "donnez un entier: 4\n",
            "24\n"
          ],
          "name": "stdout"
        }
      ]
    },
    {
      "cell_type": "code",
      "metadata": {
        "colab": {
          "base_uri": "https://localhost:8080/"
        },
        "id": "eEzyKYddnCaz",
        "outputId": "50d92d1f-2f7d-4280-da4b-a7aff9f2690a"
      },
      "source": [
        "#QUESTION2\n",
        "l=[]\n",
        "a=int(input(\"donner la taille de votre liste\"))\n",
        "for i in range (a):\n",
        "  b=int(input(\"donnez un entier\"))\n",
        "  c=int(input(\"donnez un entier\"))\n",
        "  l.append((b,c))\n",
        "\n",
        "l.sort(key=lambda j: j[1])\n",
        "print(l)\n",
        "   \n",
        "  \n"
      ],
      "execution_count": null,
      "outputs": [
        {
          "output_type": "stream",
          "text": [
            "donner la taille de votre liste4\n",
            "donnez un entier1\n",
            "donnez un entier2\n",
            "donnez un entier1\n",
            "donnez un entier5\n",
            "donnez un entier1\n",
            "donnez un entier4\n",
            "donnez un entier1\n",
            "donnez un entier7\n",
            "[(1, 2), (1, 4), (1, 5), (1, 7)]\n"
          ],
          "name": "stdout"
        }
      ]
    },
    {
      "cell_type": "code",
      "metadata": {
        "colab": {
          "base_uri": "https://localhost:8080/"
        },
        "id": "h6JSl-ES4Dxr",
        "outputId": "e467dc5d-886a-4f16-c3d9-5d4542ff9a1c"
      },
      "source": [
        "#QUESTION3\n",
        "d1={}\n",
        "a=int(input('choisir la taille de votre dictionnaire'))\n",
        "for i in range (a):\n",
        "  b=input(\"choissisez votre clé\")\n",
        "  d1[b]=int(input(\"choissez la valeur de cette clé\"))\n",
        "d2={}\n",
        "h=int(input('choisir la taille de votre dictionnaire'))\n",
        "for i in range (a):\n",
        "  s=input(\"choissisez votre clé\")\n",
        "  d2[s]=int(input(\"choissez la valeur de cette clé\"))\n",
        "for k in d1:\n",
        "  if k in d2:\n",
        "    d2[k]=d2[k]+d1[k]\n",
        "  else:\n",
        "    d2[k]=d1[k]\n",
        "    \n",
        "print(d2)\n",
        "         \n",
        "\n",
        "\n",
        "\n",
        "\n",
        "\n"
      ],
      "execution_count": 2,
      "outputs": [
        {
          "output_type": "stream",
          "text": [
            "choisir la taille de votre dictionnaire3\n",
            "choissisez votre cléa\n",
            "choissez la valeur de cette clé100\n",
            "choissisez votre cléb\n",
            "choissez la valeur de cette clé200\n",
            "choissisez votre cléc\n",
            "choissez la valeur de cette clé300\n",
            "choisir la taille de votre dictionnaire3\n",
            "choissisez votre cléa\n",
            "choissez la valeur de cette clé300\n",
            "choissisez votre cléb\n",
            "choissez la valeur de cette clé200\n",
            "choissisez votre cléd\n",
            "choissez la valeur de cette clé400\n",
            "{'a': 400, 'b': 400, 'd': 400, 'c': 300}\n"
          ],
          "name": "stdout"
        }
      ]
    },
    {
      "cell_type": "code",
      "metadata": {
        "colab": {
          "base_uri": "https://localhost:8080/"
        },
        "id": "njnnxEWsFcM1",
        "outputId": "3ff9e1e0-11f6-4745-c397-b6b397997f35"
      },
      "source": [
        "#question4\n",
        "a=int(input(\"donnez un entier \"))\n",
        "l={}\n",
        "for i in range (1,a+1):\n",
        "  l[i]=i*i\n",
        "print(l)\n"
      ],
      "execution_count": 3,
      "outputs": [
        {
          "output_type": "stream",
          "text": [
            "donnez un entier 5\n",
            "{1: 1, 2: 4, 3: 9, 4: 16, 5: 25}\n"
          ],
          "name": "stdout"
        }
      ]
    },
    {
      "cell_type": "code",
      "metadata": {
        "id": "k1UPEa5b03vl",
        "colab": {
          "base_uri": "https://localhost:8080/"
        },
        "outputId": "ea0fb3ba-ca39-4019-9345-109c8dfc4382"
      },
      "source": [
        "#question5:\n",
        "l=[]\n",
        "a=int(input(\"donner la taille de votre liste\"))\n",
        "for i in range (a):\n",
        "  b=str(input(\"donnez une chaine de caractère \"))\n",
        "  c=float(input(\"donnez un réel\"))\n",
        "  l.append((b,c))\n",
        "  l.sort(key=lambda j: j[1],reverse=True)\n",
        "print(l)\n"
      ],
      "execution_count": 7,
      "outputs": [
        {
          "output_type": "stream",
          "text": [
            "donner la taille de votre liste3\n",
            "donnez une chaine de caractère abc1\n",
            "donnez un réel8.2\n",
            "donnez une chaine de caractère abc2\n",
            "donnez un réel10.3\n",
            "donnez une chaine de caractère abc3\n",
            "donnez un réel15.3\n",
            "[('abc3', 15.3), ('abc2', 10.3), ('abc1', 8.2)]\n"
          ],
          "name": "stdout"
        }
      ]
    }
  ]
}