{
  "nbformat": 4,
  "nbformat_minor": 0,
  "metadata": {
    "colab": {
      "name": "countdown.ipynb",
      "provenance": []
    },
    "kernelspec": {
      "name": "python3",
      "display_name": "Python 3"
    },
    "language_info": {
      "name": "python"
    }
  },
  "cells": [
    {
      "cell_type": "code",
      "metadata": {
        "id": "eBK_cZXglViM"
      },
      "source": [
        "import time\n",
        "t=int(input(\" write the length of the countdown in seconds.\"))\n",
        "def coutdown(temps=t):\n",
        "     while t!=0:\n",
        "       b=divmod(t,60)\n",
        "       print(b[0],\":\",b[1],end=\"\\r\")\n",
        "       time.sleep(1)\n",
        "       if b[1]==0:\n",
        "         b=b+(-1,59)\n",
        "       else:\n",
        "         b=b+(0,-1)\n",
        "print(\"Fire in the hole\")\n",
        "\n",
        "\n"
      ],
      "execution_count": null,
      "outputs": []
    }
  ]
}